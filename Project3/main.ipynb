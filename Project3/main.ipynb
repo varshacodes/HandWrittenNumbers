{
 "cells": [
  {
   "cell_type": "markdown",
   "metadata": {},
   "source": [
    "# Project 3"
   ]
  },
  {
   "cell_type": "code",
   "execution_count": 26,
   "metadata": {},
   "outputs": [],
   "source": [
    "#IMPORTS\n",
    "import pickle\n",
    "import gzip\n",
    "from PIL import Image\n",
    "import os\n",
    "import numpy as np\n",
    "from sklearn.neural_network import MLPClassifier\n",
    "from sklearn.ensemble import RandomForestClassifier, VotingClassifier\n",
    "from sklearn.datasets import make_classification\n",
    "from sklearn import svm\n",
    "import keras\n",
    "import tensorflow as tf\n",
    "import matplotlib.pyplot as graphPlot\n",
    "%matplotlib inline\n"
   ]
  },
  {
   "cell_type": "markdown",
   "metadata": {},
   "source": [
    "# Data Pre- Processing"
   ]
  },
  {
   "cell_type": "code",
   "execution_count": 27,
   "metadata": {},
   "outputs": [],
   "source": [
    "def getPreProcessedData():\n",
    "    # Pre-processing MNIST Data\n",
    "    filename = 'mnist.pkl.gz'\n",
    "    with open(filename, 'rb') as f:\n",
    "        MNIST_Training, MNIST_Validation, MNIST_Testing = pickle.load(f, encoding='latin1')\n",
    "\n",
    "    #Pre-processing USPS Data\n",
    "    curPath  = 'USPSdata/Numerals'\n",
    "    savedImg = []\n",
    "    USPS_Testing_Data  = []\n",
    "    USPS_Testing_Target  = []\n",
    "    for j in range(0,10):\n",
    "        curFolderPath = curPath + '/' + str(j)\n",
    "        imgs =  os.listdir(curFolderPath)\n",
    "        for img in imgs:\n",
    "            curImg = curFolderPath + '/' + img\n",
    "            if curImg[-3:] == 'png':\n",
    "                img = Image.open(curImg,'r')\n",
    "                img = img.resize((28, 28))\n",
    "                savedImg = img\n",
    "                imgdata = (255-np.array(img.getdata()))/255\n",
    "                USPS_Testing_Data.append(imgdata)\n",
    "                USPS_Testing_Target.append(j)\n",
    "    return MNIST_Training, MNIST_Validation, MNIST_Testing, USPS_Testing_Data, USPS_Testing_Target\n",
    "\n"
   ]
  },
  {
   "cell_type": "markdown",
   "metadata": {},
   "source": [
    "# Preparing DataSets"
   ]
  },
  {
   "cell_type": "code",
   "execution_count": 28,
   "metadata": {},
   "outputs": [],
   "source": [
    "MNIST_Training, MNIST_Validation, MNIST_Testing, USPS_Testing_Data, USPS_Testing_Target = getPreProcessedData()\n",
    "MNIST_Training_Features = np.append(MNIST_Training[0],MNIST_Validation[0], axis = 0)\n",
    "MNIST_Training_Target = np.append(MNIST_Training[1],MNIST_Validation[1], axis = 0)"
   ]
  },
  {
   "cell_type": "markdown",
   "metadata": {},
   "source": [
    "# Multilayer Percepton Nueral Network"
   ]
  },
  {
   "cell_type": "code",
   "execution_count": 29,
   "metadata": {},
   "outputs": [],
   "source": [
    "def RunMLPModel(X,Y):\n",
    "    classifier = MLPClassifier(activation='logistic', alpha=1e-05, batch_size='auto',beta_1=0.9, beta_2=0.999,\n",
    "                 early_stopping=False, epsilon=1e-08, hidden_layer_sizes=(256, 4),learning_rate='adaptive', \n",
    "                 learning_rate_init=0.01,max_iter = 200, momentum=0.6, n_iter_no_change=10, nesterovs_momentum=True,\n",
    "                 power_t=0.5, random_state=1, shuffle=True, solver='sgd', tol=0.0001,validation_fraction=0.15, \n",
    "                 verbose=False, warm_start=False)\n",
    "    classifier.fit(X, Y)                         \n",
    "    return classifier\n",
    "    \n"
   ]
  },
  {
   "cell_type": "markdown",
   "metadata": {},
   "source": [
    "# Random Forest Model"
   ]
  },
  {
   "cell_type": "code",
   "execution_count": 46,
   "metadata": {},
   "outputs": [],
   "source": [
    "def RunRFModel(X,Y):\n",
    "    classifier = RandomForestClassifier(bootstrap=True, class_weight=None, criterion='gini',\n",
    "                 max_depth=5, max_features='auto', max_leaf_nodes=None,\n",
    "                 min_impurity_decrease=0.0, min_impurity_split=None,\n",
    "                 min_samples_leaf=1, min_samples_split=4,\n",
    "                 min_weight_fraction_leaf=0.0, n_estimators=120, n_jobs=None,\n",
    "                 oob_score=False, random_state=0, verbose=0, warm_start=False)\n",
    "    classifier.fit(X,Y)\n",
    "    return classifier\n"
   ]
  },
  {
   "cell_type": "markdown",
   "metadata": {},
   "source": [
    "# Support Vector Machines\n"
   ]
  },
  {
   "cell_type": "code",
   "execution_count": 38,
   "metadata": {},
   "outputs": [],
   "source": [
    "def RunSVMModel(X,Y):\n",
    "    Classifier =  svm.SVC(C=1.0, cache_size=200, class_weight=None, coef0=0.0,\n",
    "    decision_function_shape='ovr', degree=3, gamma='scale', kernel='rbf',\n",
    "    max_iter=-1, probability=False, random_state=None, shrinking=True,\n",
    "    tol=0.001, verbose=False)\n",
    "    Classifier.fit(X, Y)    \n",
    "    return Classifier"
   ]
  },
  {
   "cell_type": "markdown",
   "metadata": {},
   "source": [
    "# Multi-Class Logistic Regression"
   ]
  },
  {
   "cell_type": "code",
   "execution_count": 65,
   "metadata": {},
   "outputs": [],
   "source": [
    "def RunMCLRModel(MNIST_Training_Features, MNIST_Training_Target):\n",
    "    MNIST_Training_One_Hot = keras.utils.to_categorical(MNIST_Training_Target)\n",
    "    Weights = np.zeros((MNIST_Training_Features.shape[1],MNIST_Training_One_Hot.shape[1]))\n",
    "    MNIST_Training_Samples = len(MNIST_Training[0])\n",
    "    LearningRate = 0.05\n",
    "    Epochs = 500\n",
    "    batchSize = 128\n",
    "    Weights, CostList = GradientDescent(MNIST_Training_Samples,Weights,MNIST_Training_Features,MNIST_Training_One_Hot,LearningRate,Epochs)\n",
    "    graphPlot.plot([i for i in range(Epochs)],CostList,'b.',label = 'Epochs Vs Cost')\n",
    "    return Weights"
   ]
  },
  {
   "cell_type": "code",
   "execution_count": 66,
   "metadata": {},
   "outputs": [],
   "source": [
    "def SoftMaxFunction(X, W):\n",
    "    Product = np.matmul(X, W)\n",
    "    Temp = np.exp(Product - np.max(Product))\n",
    "    softmax = (Temp.T / np.sum(Temp)).T\n",
    "    return softmax\n",
    "\n",
    "def CostFunction(M,X,W,T):\n",
    "    J = (-1/M)*np.sum(T * np.log(SoftMaxFunction(X,W)))\n",
    "    return J\n",
    "\n",
    "def GradientDescent(M,W,X,T, LearningRate,Epochs):\n",
    "    costs = [0]* Epochs\n",
    "    for i in range(0,Epochs):\n",
    "        W = W - (LearningRate/M) * np.dot(X.T,(SoftMaxFunction(X,W) - T))\n",
    "        cost = CostFunction(M,X,W,T)\n",
    "        costs[i] = cost\n",
    "    return W, costs\n",
    "\n",
    "def getPredictedDigits(PredictedResult):\n",
    "    PredictedDigits = np.zeros(len(PredictedResult))\n",
    "    for p in range(0,len(PredictedResult)):\n",
    "        maxProbablity =0\n",
    "        ProbableDigit = 0\n",
    "        for i in range(0,9):\n",
    "            if(PredictedResult[p][i] >maxProbablity):\n",
    "               maxProbablity = PredictedResult[p][i]\n",
    "               ProbableDigit = i\n",
    "        PredictedDigits[p] = ProbableDigit\n",
    "    return PredictedDigits\n",
    "        \n",
    "    "
   ]
  },
  {
   "cell_type": "markdown",
   "metadata": {},
   "source": [
    "# Computing Accuracy and Confusion Matrix"
   ]
  },
  {
   "cell_type": "code",
   "execution_count": 63,
   "metadata": {},
   "outputs": [],
   "source": [
    "def CalculateAccuracy(predictedResult, Target):\n",
    "    difference = predictedResult - Target\n",
    "    AccuracyCount = sum(difference==0)\n",
    "    return AccuracyCount/len(Target)\n",
    "\n",
    "def GetConfusionMatrix(pedictedResult,Target):\n",
    "    ConfusionMatrix = np.zeros((10,10))\n",
    "    for i in range(0,len(Target)):   \n",
    "        t = int(Target[i])\n",
    "        p = int(pedictedResult[i])\n",
    "        ConfusionMatrix[t][p] = int(ConfusionMatrix[t][p]+1)\n",
    "    return ConfusionMatrix.astype(int)\n",
    "        \n",
    "    "
   ]
  },
  {
   "cell_type": "markdown",
   "metadata": {},
   "source": [
    "# Testing Multi-layer Perceptron(MLP) Neural Network Model"
   ]
  },
  {
   "cell_type": "code",
   "execution_count": 17,
   "metadata": {},
   "outputs": [
    {
     "name": "stderr",
     "output_type": "stream",
     "text": [
      "/anaconda3/lib/python3.5/site-packages/sklearn/neural_network/multilayer_perceptron.py:564: UserWarning: Training interrupted by user.\n",
      "  warnings.warn(\"Training interrupted by user.\")\n"
     ]
    },
    {
     "name": "stdout",
     "output_type": "stream",
     "text": [
      "Multi-layer Perceptron(MLP) Neural Network Model\n",
      "MNIST Dataset ConfusionMatrix:\n",
      "[[ 956    0    0    1    0   12    8    2    1    0]\n",
      " [   0 1113   11    2    0    1    1    2    5    0]\n",
      " [   8   11  935   28    3    0   18    6   23    0]\n",
      " [   4    0   14  947    0   14    1   15   15    0]\n",
      " [   0    2    3    0  930    1   17    1    2   26]\n",
      " [  20    1    5   29    1  791   12    3   20   10]\n",
      " [  12    2    6    0    9   14  913    0    2    0]\n",
      " [   1   20   10   13    7    1    1  954    2   19]\n",
      " [   0    3    7   13   12   26    5    7  897    4]\n",
      " [   5    2    1    9   46   12    1   22    4  907]]\n",
      "MNIST Dataset Testing Accuracy:0.9343\n",
      "MNIST Dataset Validation Accuracy:0.9426\n",
      "USPS Dataset ConfusionMatrix:\n",
      "[[ 956    0    0    1    0   12    8    2    1    0]\n",
      " [   0 1113   11    2    0    1    1    2    5    0]\n",
      " [   8   11  935   28    3    0   18    6   23    0]\n",
      " [   4    0   14  947    0   14    1   15   15    0]\n",
      " [   0    2    3    0  930    1   17    1    2   26]\n",
      " [  20    1    5   29    1  791   12    3   20   10]\n",
      " [  12    2    6    0    9   14  913    0    2    0]\n",
      " [   1   20   10   13    7    1    1  954    2   19]\n",
      " [   0    3    7   13   12   26    5    7  897    4]\n",
      " [   5    2    1    9   46   12    1   22    4  907]]\n",
      "USPS Dataset Testing Accuracy:0.3702685134256713\n"
     ]
    }
   ],
   "source": [
    "#Multi-layer Perceptron(MLP) Neural Network Model\n",
    "#Running the Model on MNIST Dataset\n",
    "MLP_Model_Classifier = RunMLPModel(MNIST_Training_Features,MNIST_Training_Target)\n",
    "#Validation on MNIST Data Set\n",
    "MLP_MNIST_ValidationResult = MLP_Model_Classifier.predict(MNIST_Validation[0])\n",
    "MLP_MNIST_ValidationAccuracy = CalculateAccuracy(MLP_MNIST_ValidationResult,MNIST_Validation[1])\n",
    "#Testing the MLP Model on MNIST DataSet\n",
    "MLP_MNISTpredictedResult = MLP_Model_Classifier.predict(MNIST_Testing[0])\n",
    "MLP_MNIST_ConfusionMatrix = GetConfusionMatrix(MLP_MNISTpredictedResult,MNIST_Testing[1])\n",
    "MLP_MNISTTestingAccuracy = CalculateAccuracy(MLP_MNISTpredictedResult,MNIST_Testing[1])\n",
    "print(\"Multi-layer Perceptron(MLP) Neural Network Model\")\n",
    "print(\"MNIST Dataset ConfusionMatrix:\")\n",
    "print(MLP_MNIST_ConfusionMatrix)\n",
    "print(\"MNIST Dataset Testing Accuracy:\"+ str(MLP_MNISTTestingAccuracy))\n",
    "print(\"MNIST Dataset Validation Accuracy:\"+ str(MLP_MNIST_ValidationAccuracy))\n",
    "#Testing the MLP Model USPS DataSet\n",
    "MLP_USPSpredictedResult = MLP_Model_Classifier.predict(USPS_Testing_Data)\n",
    "MLP_USPSTestingAccuracy = CalculateAccuracy(MLP_USPSpredictedResult,USPS_Testing_Target)\n",
    "MLP_USPS_ConfusionMatrix = GetConfusionMatrix(MLP_USPSpredictedResult,USPS_Testing_Target)\n",
    "print(\"USPS Dataset ConfusionMatrix:\")\n",
    "print(MLP_MNIST_ConfusionMatrix)\n",
    "print(\"USPS Dataset Testing Accuracy:\"+ str(MLP_USPSTestingAccuracy))"
   ]
  },
  {
   "cell_type": "markdown",
   "metadata": {},
   "source": [
    "# Testing Random Forest (RF) Model"
   ]
  },
  {
   "cell_type": "code",
   "execution_count": 47,
   "metadata": {},
   "outputs": [
    {
     "name": "stdout",
     "output_type": "stream",
     "text": [
      "Random Forest Model\n",
      "MNIST Dataset ConfusionMatrix:\n",
      "[[ 961    1    2    1    0    1    3    4    7    0]\n",
      " [   0 1120    2    1    0    1    4    1    6    0]\n",
      " [  15   33  873   19   10    0   27   31   17    7]\n",
      " [  12   12   28  868    3   13    4   21   29   20]\n",
      " [   4    3    2    1  806    1   26    8   18  113]\n",
      " [  35   27    2  149   20  569   32   12   19   27]\n",
      " [  27   12    6    1   21   10  871    3    7    0]\n",
      " [   2   32   42    1    7    0    0  899    8   37]\n",
      " [   6   29    9   34   14   10   25    5  799   43]\n",
      " [  10   11    4   13   26    2    7   35   21  880]]\n",
      "MNIST Dataset Testing Accuracy:0.8646\n",
      "MNIST Dataset Validation Accuracy:0.8763\n",
      "USPS Dataset ConfusionMatrix:\n",
      "[[ 674  106   93   25  221   22   25  789    0   45]\n",
      " [  70  612   34   23   22   18   14 1200    3    4]\n",
      " [ 180  317  420   65   32   29   19  934    0    3]\n",
      " [ 112  150   35  686   96   79    9  807    2   24]\n",
      " [  18  445   11   18  449   38   11  997    1   12]\n",
      " [ 258  213   49  189   53  464   39  726    2    7]\n",
      " [ 483  254   79   20   66   86  253  757    2    0]\n",
      " [  47  758   50   70   18   35   12 1007    0    3]\n",
      " [ 209  420   66  158  161  445   77  433   25    6]\n",
      " [  45  602   58  137  104   28    7 1005    5    9]]\n",
      "USPS Dataset Testing Accuracy:0.22996149807490374\n"
     ]
    }
   ],
   "source": [
    "# Random Forest (RF) Model\n",
    "#Running the Model on MNIST Dataset\n",
    "RF_Model_Classifier = RunRFModel(MNIST_Training_Features,MNIST_Training_Target)\n",
    "#Validation on MNIST Data Set\n",
    "RF_MNIST_ValidationResult = RF_Model_Classifier.predict(MNIST_Validation[0])\n",
    "RF_MNIST_ValidationAccuracy = CalculateAccuracy(RF_MNIST_ValidationResult,MNIST_Validation[1])\n",
    "#Testing the RF Model on MNIST DataSet\n",
    "RF_MNISTpredictedResult = RF_Model_Classifier.predict(MNIST_Testing[0])\n",
    "RF_MNISTTestingAccuracy = CalculateAccuracy(RF_MNISTpredictedResult,MNIST_Testing[1])\n",
    "RF_MNIST_ConfusionMatrix = GetConfusionMatrix(RF_MNISTpredictedResult,MNIST_Testing[1])\n",
    "print(\"Random Forest Model\")\n",
    "print(\"MNIST Dataset ConfusionMatrix:\")\n",
    "print(RF_MNIST_ConfusionMatrix)\n",
    "print(\"MNIST Dataset Testing Accuracy:\"+ str(RF_MNISTTestingAccuracy))\n",
    "print(\"MNIST Dataset Validation Accuracy:\"+ str(RF_MNIST_ValidationAccuracy))\n",
    "#Testing the RF Model on USPS DataSet\n",
    "RF_USPSpredictedResult = RF_Model_Classifier.predict(USPS_Testing_Data)\n",
    "RF_USPS_ConfusionMatrix = GetConfusionMatrix(RF_USPSpredictedResult,USPS_Testing_Target)\n",
    "RF_USPSTestingAccuracy = CalculateAccuracy(RF_USPSpredictedResult,USPS_Testing_Target)\n",
    "print(\"USPS Dataset ConfusionMatrix:\")\n",
    "print(RF_USPS_ConfusionMatrix)\n",
    "print(\"USPS Dataset Testing Accuracy:\"+ str(RF_USPSTestingAccuracy))"
   ]
  },
  {
   "cell_type": "markdown",
   "metadata": {},
   "source": [
    "# Testing Support Vector Machines(SVM) Model"
   ]
  },
  {
   "cell_type": "code",
   "execution_count": 40,
   "metadata": {},
   "outputs": [
    {
     "name": "stdout",
     "output_type": "stream",
     "text": [
      "Support Vector Machines Model\n",
      "MNIST Dataset ConfusionMatrix:\n",
      "[[ 969    0    2    0    0    4    2    1    2    0]\n",
      " [   0 1124    3    1    0    1    3    1    2    0]\n",
      " [   5    1  989    7    5    0    3   10   11    1]\n",
      " [   0    0    8  973    0    8    0    8    9    4]\n",
      " [   1    0    7    0  952    0    2    2    2   16]\n",
      " [   4    2    2   17    2  847    7    1    8    2]\n",
      " [   9    2    2    0    3    6  933    0    3    0]\n",
      " [   2   10   20    4    4    0    0  971    2   15]\n",
      " [   3    1    4   10    7    9    7    5  926    2]\n",
      " [   4    7    2   11   21    4    1    8    4  947]]\n",
      "MNIST Dataset Testing Accuracy:0.9631\n",
      "MNIST Dataset Validation Accuracy:0.9728\n",
      "Support Vector Machines Model\n",
      "USPS Dataset ConfusionMatrix:\n",
      "[[ 609    1  436   21  197  290   53   62    6  325]\n",
      " [  77  397  327  147  172  183   42  623   22   10]\n",
      " [  98   10 1510   54   24  207   40   43    8    5]\n",
      " [  44    4  206 1209    3  459    2   51   14    8]\n",
      " [  14   32  147   17 1064  279   17  278   76   76]\n",
      " [  80    7  294   87   10 1447   35   27    7    6]\n",
      " [ 167    3  550   16   61  404  764   11    2   22]\n",
      " [  45  144  536  311   29  379    7  516   19   14]\n",
      " [  64   11  269  202   56 1047   73   41  223   14]\n",
      " [  14   89  298  310  142  165    4  605  183  190]]\n",
      "USPS Dataset Testing Accuracy:0.39646982349117454\n"
     ]
    }
   ],
   "source": [
    "# Support Vector Machines(SVM) Model\n",
    "#Running SVM Model on MNIST Dataset\n",
    "SVM_Model_Classifier = RunSVMModel(MNIST_Training_Features,MNIST_Training_Target)\n",
    "#Validation on MNIST Data Set\n",
    "SVM_MNIST_ValidationResult = SVM_Model_Classifier.predict(MNIST_Validation[0])\n",
    "SVM_MNIST_ValidationAccuracy = CalculateAccuracy(SVM_MNIST_ValidationResult,MNIST_Validation[1])\n",
    "#Testing the SVM Model on MNIST DataSet\n",
    "SVM_MNISTpredictedResult = SVM_Model_Classifier.predict(MNIST_Testing[0])\n",
    "SVM_MNISTTestingAccuracy = CalculateAccuracy(SVM_MNISTpredictedResult,MNIST_Testing[1])\n",
    "SVM_MNIST_ConfusionMatrix = GetConfusionMatrix(SVM_MNISTpredictedResult,MNIST_Testing[1])\n",
    "print(\"Support Vector Machines Model\")\n",
    "print(\"MNIST Dataset ConfusionMatrix:\")\n",
    "print(SVM_MNIST_ConfusionMatrix)\n",
    "print(\"MNIST Dataset Testing Accuracy:\"+ str(SVM_MNISTTestingAccuracy))\n",
    "print(\"MNIST Dataset Validation Accuracy:\"+ str(SVM_MNIST_ValidationAccuracy))\n",
    "#Testing the SVM Model on USPS DataSet\n",
    "SVM_USPSpredictedResult = SVM_Model_Classifier.predict(USPS_Testing_Data)\n",
    "SVM_USPSTestingAccuracy = CalculateAccuracy(SVM_USPSpredictedResult,USPS_Testing_Target)\n",
    "SVM_USPS_ConfusionMatrix = GetConfusionMatrix(SVM_USPSpredictedResult,USPS_Testing_Target)\n",
    "print(\"Support Vector Machines Model\")\n",
    "print(\"USPS Dataset ConfusionMatrix:\")\n",
    "print(SVM_USPS_ConfusionMatrix)\n",
    "print(\"USPS Dataset Testing Accuracy:\"+ str(SVM_USPSTestingAccuracy))"
   ]
  },
  {
   "cell_type": "markdown",
   "metadata": {},
   "source": [
    "# Testing Multi- Class Logistic Regression(MCLR) Model"
   ]
  },
  {
   "cell_type": "code",
   "execution_count": 67,
   "metadata": {},
   "outputs": [
    {
     "name": "stdout",
     "output_type": "stream",
     "text": [
      "Multi-Class Logistic Regression\n",
      "MNIST Dataset ConfusionMatrix:\n",
      "[[967   0   1   2   0   0   1   0   9   0]\n",
      " [  0 874   1  16   0   0   5   0 239   0]\n",
      " [113   1 716  66   4   0  31   5  96   0]\n",
      " [ 66   0  14 848   0   0   2   6  74   0]\n",
      " [ 78   0  13  26 580   0  58   2 225   0]\n",
      " [421   2  11 206   1   0  11   5 235   0]\n",
      " [182   2  11   2   1   0 725   0  35   0]\n",
      " [ 63  10  21  15   2   0   2 797 118   0]\n",
      " [ 70   0   4  91   1   0  11   3 794   0]\n",
      " [134   1  11  74 126   0   7 176 480   0]]\n",
      "MNIST Dataset Testing Accuracy:0.6301\n",
      "MNIST Dataset Validation Accuracy:0.6474\n",
      "USPS Dataset ConfusionMatrix:\n",
      "[[1502    0  243   50   75    0   16   11  103    0]\n",
      " [ 516  114  223  262   17    0   28  309  531    0]\n",
      " [ 886    8  749   94    6    0   55   26  175    0]\n",
      " [ 896    0   59  811    1    0   19   16  198    0]\n",
      " [ 696   28   77  137  394    0   34  136  498    0]\n",
      " [1235    5  143  296    2    0   52   19  248    0]\n",
      " [1423    3  192   39   26    0  235    4   78    0]\n",
      " [ 486  115  365  361    4    0   34  161  474    0]\n",
      " [1005    3  161  176   16    0   75   10  554    0]\n",
      " [ 444   78  165  516   13    0    9  204  571    0]]\n",
      "MNIST Dataset Testing Accuracy:0.22601130056502824\n"
     ]
    },
    {
     "data": {
      "image/png": "[encoded data removed]",
      "text/plain": [
       "<Figure size 432x288 with 1 Axes>"
      ]
     },
     "metadata": {
      "needs_background": "light"
     },
     "output_type": "display_data"
    }
   ],
   "source": [
    "#Multi- Class Logistic Regression(MCLR) Model\n",
    "#Running the Multi- Class Logistic Regression(MCLR) Model\n",
    "MCLR_Weights = RunMCLRModel(MNIST_Training_Features,MNIST_Training_Target)\n",
    "#Testing the MCLR Model on MNIST DataSet\n",
    "MCLR_MNIST_PredictedProbablity = SoftMaxFunction(MNIST_Testing[0],MCLR_Weights)\n",
    "MCLR_MNISTpredictedResult = getPredictedDigits(MCLR_MNIST_PredictedProbablity)\n",
    "MCLR_MNIST_ValidationProbablity = SoftMaxFunction(MNIST_Validation[0],MCLR_Weights)\n",
    "MCLR_MNIST_ValidationResult = getPredictedDigits(MCLR_MNIST_ValidationProbablity)\n",
    "MCLR_MNIST_ValidationAccuracy = CalculateAccuracy(MCLR_MNIST_ValidationResult,MNIST_Validation[1])\n",
    "MCLR_MNISTTestingAccuracy = CalculateAccuracy(MCLR_MNISTpredictedResult,MNIST_Testing[1])\n",
    "MCLR_MNIST_ConfusionMatrix = GetConfusionMatrix(MCLR_MNISTpredictedResult,MNIST_Testing[1])\n",
    "print(\"Multi-Class Logistic Regression\")\n",
    "print(\"MNIST Dataset ConfusionMatrix:\")\n",
    "print(MCLR_MNIST_ConfusionMatrix)\n",
    "print(\"MNIST Dataset Testing Accuracy:\"+ str(MCLR_MNISTTestingAccuracy))\n",
    "print(\"MNIST Dataset Validation Accuracy:\"+ str(MCLR_MNIST_ValidationAccuracy))\n",
    "#Testing the MCLR Model on USPS DataSet\n",
    "MCLR_USPS_PredictedProbablity = SoftMaxFunction(USPS_Testing_Data,MCLR_Weights)\n",
    "MCLR_USPSpredictedResult = getPredictedDigits(MCLR_USPS_PredictedProbablity)\n",
    "MCLR_USPS_TestingAccuracy = CalculateAccuracy(MCLR_USPSpredictedResult,USPS_Testing_Target) \n",
    "MCLR_USPS_ConfusionMatrix = GetConfusionMatrix(MCLR_USPSpredictedResult,USPS_Testing_Target)\n",
    "print(\"USPS Dataset ConfusionMatrix:\")\n",
    "print(MCLR_USPS_ConfusionMatrix)\n",
    "print(\"MNIST Dataset Testing Accuracy:\"+ str(MCLR_USPS_TestingAccuracy))\n"
   ]
  },
  {
   "cell_type": "markdown",
   "metadata": {},
   "source": [
    "# Ensemble Voting Classifier"
   ]
  },
  {
   "cell_type": "code",
   "execution_count": 49,
   "metadata": {},
   "outputs": [
    {
     "name": "stdout",
     "output_type": "stream",
     "text": [
      "Ensemble_Voting_Classifier created\n"
     ]
    },
    {
     "name": "stderr",
     "output_type": "stream",
     "text": [
      "/anaconda3/lib/python3.5/site-packages/sklearn/neural_network/multilayer_perceptron.py:564: UserWarning: Training interrupted by user.\n",
      "  warnings.warn(\"Training interrupted by user.\")\n"
     ]
    },
    {
     "ename": "KeyboardInterrupt",
     "evalue": "",
     "output_type": "error",
     "traceback": [
      "\u001b[0;31m---------------------------------------------------------------------------\u001b[0m",
      "\u001b[0;31mKeyboardInterrupt\u001b[0m                         Traceback (most recent call last)",
      "\u001b[0;32m<ipython-input-49-28bd39a61f32>\u001b[0m in \u001b[0;36m<module>\u001b[0;34m()\u001b[0m\n\u001b[1;32m     14\u001b[0m                                               voting='hard',weights=[1,1,2],flatten_transform=True)\n\u001b[1;32m     15\u001b[0m \u001b[0mprint\u001b[0m\u001b[0;34m(\u001b[0m\u001b[0;34m'Ensemble_Voting_Classifier created'\u001b[0m\u001b[0;34m)\u001b[0m\u001b[0;34m\u001b[0m\u001b[0m\n\u001b[0;32m---> 16\u001b[0;31m \u001b[0mEnsemble_Voting_Classifier\u001b[0m\u001b[0;34m.\u001b[0m\u001b[0mfit\u001b[0m\u001b[0;34m(\u001b[0m\u001b[0mMNIST_Training_Features\u001b[0m\u001b[0;34m[\u001b[0m\u001b[0;36m0\u001b[0m\u001b[0;34m:\u001b[0m\u001b[0;36m2000\u001b[0m\u001b[0;34m,\u001b[0m\u001b[0;34m]\u001b[0m\u001b[0;34m,\u001b[0m\u001b[0mMNIST_Training_Target\u001b[0m\u001b[0;34m[\u001b[0m\u001b[0;36m0\u001b[0m\u001b[0;34m:\u001b[0m\u001b[0;36m2000\u001b[0m\u001b[0;34m]\u001b[0m\u001b[0;34m)\u001b[0m\u001b[0;34m\u001b[0m\u001b[0m\n\u001b[0m\u001b[1;32m     17\u001b[0m \u001b[0;31m#Testing on MNIST Dataset\u001b[0m\u001b[0;34m\u001b[0m\u001b[0;34m\u001b[0m\u001b[0m\n\u001b[1;32m     18\u001b[0m \u001b[0mEnsemblePredictedResults\u001b[0m \u001b[0;34m=\u001b[0m \u001b[0mEnsemble_Voting_Classifier\u001b[0m\u001b[0;34m.\u001b[0m\u001b[0mpredict\u001b[0m\u001b[0;34m(\u001b[0m\u001b[0mMNIST_Testing\u001b[0m\u001b[0;34m[\u001b[0m\u001b[0;36m0\u001b[0m\u001b[0;34m]\u001b[0m\u001b[0;34m[\u001b[0m\u001b[0;36m0\u001b[0m\u001b[0;34m:\u001b[0m\u001b[0;36m100\u001b[0m\u001b[0;34m,\u001b[0m\u001b[0;34m]\u001b[0m\u001b[0;34m)\u001b[0m\u001b[0;34m\u001b[0m\u001b[0m\n",
      "\u001b[0;32m/anaconda3/lib/python3.5/site-packages/sklearn/ensemble/voting_classifier.py\u001b[0m in \u001b[0;36mfit\u001b[0;34m(self, X, y, sample_weight)\u001b[0m\n\u001b[1;32m    199\u001b[0m                 delayed(_parallel_fit_estimator)(clone(clf), X, transformed_y,\n\u001b[1;32m    200\u001b[0m                                                  sample_weight=sample_weight)\n\u001b[0;32m--> 201\u001b[0;31m                 for clf in clfs if clf is not None)\n\u001b[0m\u001b[1;32m    202\u001b[0m \u001b[0;34m\u001b[0m\u001b[0m\n\u001b[1;32m    203\u001b[0m         \u001b[0mself\u001b[0m\u001b[0;34m.\u001b[0m\u001b[0mnamed_estimators_\u001b[0m \u001b[0;34m=\u001b[0m \u001b[0mBunch\u001b[0m\u001b[0;34m(\u001b[0m\u001b[0;34m**\u001b[0m\u001b[0mdict\u001b[0m\u001b[0;34m(\u001b[0m\u001b[0;34m)\u001b[0m\u001b[0;34m)\u001b[0m\u001b[0;34m\u001b[0m\u001b[0m\n",
      "\u001b[0;32m/anaconda3/lib/python3.5/site-packages/sklearn/externals/joblib/parallel.py\u001b[0m in \u001b[0;36m__call__\u001b[0;34m(self, iterable)\u001b[0m\n\u001b[1;32m    984\u001b[0m                 \u001b[0mself\u001b[0m\u001b[0;34m.\u001b[0m\u001b[0m_iterating\u001b[0m \u001b[0;34m=\u001b[0m \u001b[0mself\u001b[0m\u001b[0;34m.\u001b[0m\u001b[0m_original_iterator\u001b[0m \u001b[0;32mis\u001b[0m \u001b[0;32mnot\u001b[0m \u001b[0;32mNone\u001b[0m\u001b[0;34m\u001b[0m\u001b[0m\n\u001b[1;32m    985\u001b[0m \u001b[0;34m\u001b[0m\u001b[0m\n\u001b[0;32m--> 986\u001b[0;31m             \u001b[0;32mwhile\u001b[0m \u001b[0mself\u001b[0m\u001b[0;34m.\u001b[0m\u001b[0mdispatch_one_batch\u001b[0m\u001b[0;34m(\u001b[0m\u001b[0miterator\u001b[0m\u001b[0;34m)\u001b[0m\u001b[0;34m:\u001b[0m\u001b[0;34m\u001b[0m\u001b[0m\n\u001b[0m\u001b[1;32m    987\u001b[0m                 \u001b[0;32mpass\u001b[0m\u001b[0;34m\u001b[0m\u001b[0m\n\u001b[1;32m    988\u001b[0m \u001b[0;34m\u001b[0m\u001b[0m\n",
      "\u001b[0;32m/anaconda3/lib/python3.5/site-packages/sklearn/externals/joblib/parallel.py\u001b[0m in \u001b[0;36mdispatch_one_batch\u001b[0;34m(self, iterator)\u001b[0m\n\u001b[1;32m    823\u001b[0m                 \u001b[0;32mreturn\u001b[0m \u001b[0;32mFalse\u001b[0m\u001b[0;34m\u001b[0m\u001b[0m\n\u001b[1;32m    824\u001b[0m             \u001b[0;32melse\u001b[0m\u001b[0;34m:\u001b[0m\u001b[0;34m\u001b[0m\u001b[0m\n\u001b[0;32m--> 825\u001b[0;31m                 \u001b[0mself\u001b[0m\u001b[0;34m.\u001b[0m\u001b[0m_dispatch\u001b[0m\u001b[0;34m(\u001b[0m\u001b[0mtasks\u001b[0m\u001b[0;34m)\u001b[0m\u001b[0;34m\u001b[0m\u001b[0m\n\u001b[0m\u001b[1;32m    826\u001b[0m                 \u001b[0;32mreturn\u001b[0m \u001b[0;32mTrue\u001b[0m\u001b[0;34m\u001b[0m\u001b[0m\n\u001b[1;32m    827\u001b[0m \u001b[0;34m\u001b[0m\u001b[0m\n",
      "\u001b[0;32m/anaconda3/lib/python3.5/site-packages/sklearn/externals/joblib/parallel.py\u001b[0m in \u001b[0;36m_dispatch\u001b[0;34m(self, batch)\u001b[0m\n\u001b[1;32m    780\u001b[0m         \u001b[0;32mwith\u001b[0m \u001b[0mself\u001b[0m\u001b[0;34m.\u001b[0m\u001b[0m_lock\u001b[0m\u001b[0;34m:\u001b[0m\u001b[0;34m\u001b[0m\u001b[0m\n\u001b[1;32m    781\u001b[0m             \u001b[0mjob_idx\u001b[0m \u001b[0;34m=\u001b[0m \u001b[0mlen\u001b[0m\u001b[0;34m(\u001b[0m\u001b[0mself\u001b[0m\u001b[0;34m.\u001b[0m\u001b[0m_jobs\u001b[0m\u001b[0;34m)\u001b[0m\u001b[0;34m\u001b[0m\u001b[0m\n\u001b[0;32m--> 782\u001b[0;31m             \u001b[0mjob\u001b[0m \u001b[0;34m=\u001b[0m \u001b[0mself\u001b[0m\u001b[0;34m.\u001b[0m\u001b[0m_backend\u001b[0m\u001b[0;34m.\u001b[0m\u001b[0mapply_async\u001b[0m\u001b[0;34m(\u001b[0m\u001b[0mbatch\u001b[0m\u001b[0;34m,\u001b[0m \u001b[0mcallback\u001b[0m\u001b[0;34m=\u001b[0m\u001b[0mcb\u001b[0m\u001b[0;34m)\u001b[0m\u001b[0;34m\u001b[0m\u001b[0m\n\u001b[0m\u001b[1;32m    783\u001b[0m             \u001b[0;31m# A job can complete so quickly than its callback is\u001b[0m\u001b[0;34m\u001b[0m\u001b[0;34m\u001b[0m\u001b[0m\n\u001b[1;32m    784\u001b[0m             \u001b[0;31m# called before we get here, causing self._jobs to\u001b[0m\u001b[0;34m\u001b[0m\u001b[0;34m\u001b[0m\u001b[0m\n",
      "\u001b[0;32m/anaconda3/lib/python3.5/site-packages/sklearn/externals/joblib/_parallel_backends.py\u001b[0m in \u001b[0;36mapply_async\u001b[0;34m(self, func, callback)\u001b[0m\n\u001b[1;32m    180\u001b[0m     \u001b[0;32mdef\u001b[0m \u001b[0mapply_async\u001b[0m\u001b[0;34m(\u001b[0m\u001b[0mself\u001b[0m\u001b[0;34m,\u001b[0m \u001b[0mfunc\u001b[0m\u001b[0;34m,\u001b[0m \u001b[0mcallback\u001b[0m\u001b[0;34m=\u001b[0m\u001b[0;32mNone\u001b[0m\u001b[0;34m)\u001b[0m\u001b[0;34m:\u001b[0m\u001b[0;34m\u001b[0m\u001b[0m\n\u001b[1;32m    181\u001b[0m         \u001b[0;34m\"\"\"Schedule a func to be run\"\"\"\u001b[0m\u001b[0;34m\u001b[0m\u001b[0m\n\u001b[0;32m--> 182\u001b[0;31m         \u001b[0mresult\u001b[0m \u001b[0;34m=\u001b[0m \u001b[0mImmediateResult\u001b[0m\u001b[0;34m(\u001b[0m\u001b[0mfunc\u001b[0m\u001b[0;34m)\u001b[0m\u001b[0;34m\u001b[0m\u001b[0m\n\u001b[0m\u001b[1;32m    183\u001b[0m         \u001b[0;32mif\u001b[0m \u001b[0mcallback\u001b[0m\u001b[0;34m:\u001b[0m\u001b[0;34m\u001b[0m\u001b[0m\n\u001b[1;32m    184\u001b[0m             \u001b[0mcallback\u001b[0m\u001b[0;34m(\u001b[0m\u001b[0mresult\u001b[0m\u001b[0;34m)\u001b[0m\u001b[0;34m\u001b[0m\u001b[0m\n",
      "\u001b[0;32m/anaconda3/lib/python3.5/site-packages/sklearn/externals/joblib/_parallel_backends.py\u001b[0m in \u001b[0;36m__init__\u001b[0;34m(self, batch)\u001b[0m\n\u001b[1;32m    543\u001b[0m         \u001b[0;31m# Don't delay the application, to avoid keeping the input\u001b[0m\u001b[0;34m\u001b[0m\u001b[0;34m\u001b[0m\u001b[0m\n\u001b[1;32m    544\u001b[0m         \u001b[0;31m# arguments in memory\u001b[0m\u001b[0;34m\u001b[0m\u001b[0;34m\u001b[0m\u001b[0m\n\u001b[0;32m--> 545\u001b[0;31m         \u001b[0mself\u001b[0m\u001b[0;34m.\u001b[0m\u001b[0mresults\u001b[0m \u001b[0;34m=\u001b[0m \u001b[0mbatch\u001b[0m\u001b[0;34m(\u001b[0m\u001b[0;34m)\u001b[0m\u001b[0;34m\u001b[0m\u001b[0m\n\u001b[0m\u001b[1;32m    546\u001b[0m \u001b[0;34m\u001b[0m\u001b[0m\n\u001b[1;32m    547\u001b[0m     \u001b[0;32mdef\u001b[0m \u001b[0mget\u001b[0m\u001b[0;34m(\u001b[0m\u001b[0mself\u001b[0m\u001b[0;34m)\u001b[0m\u001b[0;34m:\u001b[0m\u001b[0;34m\u001b[0m\u001b[0m\n",
      "\u001b[0;32m/anaconda3/lib/python3.5/site-packages/sklearn/externals/joblib/parallel.py\u001b[0m in \u001b[0;36m__call__\u001b[0;34m(self)\u001b[0m\n\u001b[1;32m    259\u001b[0m         \u001b[0;32mwith\u001b[0m \u001b[0mparallel_backend\u001b[0m\u001b[0;34m(\u001b[0m\u001b[0mself\u001b[0m\u001b[0;34m.\u001b[0m\u001b[0m_backend\u001b[0m\u001b[0;34m)\u001b[0m\u001b[0;34m:\u001b[0m\u001b[0;34m\u001b[0m\u001b[0m\n\u001b[1;32m    260\u001b[0m             return [func(*args, **kwargs)\n\u001b[0;32m--> 261\u001b[0;31m                     for func, args, kwargs in self.items]\n\u001b[0m\u001b[1;32m    262\u001b[0m \u001b[0;34m\u001b[0m\u001b[0m\n\u001b[1;32m    263\u001b[0m     \u001b[0;32mdef\u001b[0m \u001b[0m__len__\u001b[0m\u001b[0;34m(\u001b[0m\u001b[0mself\u001b[0m\u001b[0;34m)\u001b[0m\u001b[0;34m:\u001b[0m\u001b[0;34m\u001b[0m\u001b[0m\n",
      "\u001b[0;32m/anaconda3/lib/python3.5/site-packages/sklearn/externals/joblib/parallel.py\u001b[0m in \u001b[0;36m<listcomp>\u001b[0;34m(.0)\u001b[0m\n\u001b[1;32m    259\u001b[0m         \u001b[0;32mwith\u001b[0m \u001b[0mparallel_backend\u001b[0m\u001b[0;34m(\u001b[0m\u001b[0mself\u001b[0m\u001b[0;34m.\u001b[0m\u001b[0m_backend\u001b[0m\u001b[0;34m)\u001b[0m\u001b[0;34m:\u001b[0m\u001b[0;34m\u001b[0m\u001b[0m\n\u001b[1;32m    260\u001b[0m             return [func(*args, **kwargs)\n\u001b[0;32m--> 261\u001b[0;31m                     for func, args, kwargs in self.items]\n\u001b[0m\u001b[1;32m    262\u001b[0m \u001b[0;34m\u001b[0m\u001b[0m\n\u001b[1;32m    263\u001b[0m     \u001b[0;32mdef\u001b[0m \u001b[0m__len__\u001b[0m\u001b[0;34m(\u001b[0m\u001b[0mself\u001b[0m\u001b[0;34m)\u001b[0m\u001b[0;34m:\u001b[0m\u001b[0;34m\u001b[0m\u001b[0m\n",
      "\u001b[0;32m/anaconda3/lib/python3.5/site-packages/sklearn/ensemble/voting_classifier.py\u001b[0m in \u001b[0;36m_parallel_fit_estimator\u001b[0;34m(estimator, X, y, sample_weight)\u001b[0m\n\u001b[1;32m     30\u001b[0m         \u001b[0mestimator\u001b[0m\u001b[0;34m.\u001b[0m\u001b[0mfit\u001b[0m\u001b[0;34m(\u001b[0m\u001b[0mX\u001b[0m\u001b[0;34m,\u001b[0m \u001b[0my\u001b[0m\u001b[0;34m,\u001b[0m \u001b[0msample_weight\u001b[0m\u001b[0;34m=\u001b[0m\u001b[0msample_weight\u001b[0m\u001b[0;34m)\u001b[0m\u001b[0;34m\u001b[0m\u001b[0m\n\u001b[1;32m     31\u001b[0m     \u001b[0;32melse\u001b[0m\u001b[0;34m:\u001b[0m\u001b[0;34m\u001b[0m\u001b[0m\n\u001b[0;32m---> 32\u001b[0;31m         \u001b[0mestimator\u001b[0m\u001b[0;34m.\u001b[0m\u001b[0mfit\u001b[0m\u001b[0;34m(\u001b[0m\u001b[0mX\u001b[0m\u001b[0;34m,\u001b[0m \u001b[0my\u001b[0m\u001b[0;34m)\u001b[0m\u001b[0;34m\u001b[0m\u001b[0m\n\u001b[0m\u001b[1;32m     33\u001b[0m     \u001b[0;32mreturn\u001b[0m \u001b[0mestimator\u001b[0m\u001b[0;34m\u001b[0m\u001b[0m\n\u001b[1;32m     34\u001b[0m \u001b[0;34m\u001b[0m\u001b[0m\n",
      "\u001b[0;32m/anaconda3/lib/python3.5/site-packages/sklearn/ensemble/forest.py\u001b[0m in \u001b[0;36mfit\u001b[0;34m(self, X, y, sample_weight)\u001b[0m\n\u001b[1;32m    333\u001b[0m                     \u001b[0mt\u001b[0m\u001b[0;34m,\u001b[0m \u001b[0mself\u001b[0m\u001b[0;34m,\u001b[0m \u001b[0mX\u001b[0m\u001b[0;34m,\u001b[0m \u001b[0my\u001b[0m\u001b[0;34m,\u001b[0m \u001b[0msample_weight\u001b[0m\u001b[0;34m,\u001b[0m \u001b[0mi\u001b[0m\u001b[0;34m,\u001b[0m \u001b[0mlen\u001b[0m\u001b[0;34m(\u001b[0m\u001b[0mtrees\u001b[0m\u001b[0;34m)\u001b[0m\u001b[0;34m,\u001b[0m\u001b[0;34m\u001b[0m\u001b[0m\n\u001b[1;32m    334\u001b[0m                     verbose=self.verbose, class_weight=self.class_weight)\n\u001b[0;32m--> 335\u001b[0;31m                 for i, t in enumerate(trees))\n\u001b[0m\u001b[1;32m    336\u001b[0m \u001b[0;34m\u001b[0m\u001b[0m\n\u001b[1;32m    337\u001b[0m             \u001b[0;31m# Collect newly grown trees\u001b[0m\u001b[0;34m\u001b[0m\u001b[0;34m\u001b[0m\u001b[0m\n",
      "\u001b[0;32m/anaconda3/lib/python3.5/site-packages/sklearn/externals/joblib/parallel.py\u001b[0m in \u001b[0;36m__call__\u001b[0;34m(self, iterable)\u001b[0m\n\u001b[1;32m    984\u001b[0m                 \u001b[0mself\u001b[0m\u001b[0;34m.\u001b[0m\u001b[0m_iterating\u001b[0m \u001b[0;34m=\u001b[0m \u001b[0mself\u001b[0m\u001b[0;34m.\u001b[0m\u001b[0m_original_iterator\u001b[0m \u001b[0;32mis\u001b[0m \u001b[0;32mnot\u001b[0m \u001b[0;32mNone\u001b[0m\u001b[0;34m\u001b[0m\u001b[0m\n\u001b[1;32m    985\u001b[0m \u001b[0;34m\u001b[0m\u001b[0m\n\u001b[0;32m--> 986\u001b[0;31m             \u001b[0;32mwhile\u001b[0m \u001b[0mself\u001b[0m\u001b[0;34m.\u001b[0m\u001b[0mdispatch_one_batch\u001b[0m\u001b[0;34m(\u001b[0m\u001b[0miterator\u001b[0m\u001b[0;34m)\u001b[0m\u001b[0;34m:\u001b[0m\u001b[0;34m\u001b[0m\u001b[0m\n\u001b[0m\u001b[1;32m    987\u001b[0m                 \u001b[0;32mpass\u001b[0m\u001b[0;34m\u001b[0m\u001b[0m\n\u001b[1;32m    988\u001b[0m \u001b[0;34m\u001b[0m\u001b[0m\n",
      "\u001b[0;32m/anaconda3/lib/python3.5/site-packages/sklearn/externals/joblib/parallel.py\u001b[0m in \u001b[0;36mdispatch_one_batch\u001b[0;34m(self, iterator)\u001b[0m\n\u001b[1;32m    823\u001b[0m                 \u001b[0;32mreturn\u001b[0m \u001b[0;32mFalse\u001b[0m\u001b[0;34m\u001b[0m\u001b[0m\n\u001b[1;32m    824\u001b[0m             \u001b[0;32melse\u001b[0m\u001b[0;34m:\u001b[0m\u001b[0;34m\u001b[0m\u001b[0m\n\u001b[0;32m--> 825\u001b[0;31m                 \u001b[0mself\u001b[0m\u001b[0;34m.\u001b[0m\u001b[0m_dispatch\u001b[0m\u001b[0;34m(\u001b[0m\u001b[0mtasks\u001b[0m\u001b[0;34m)\u001b[0m\u001b[0;34m\u001b[0m\u001b[0m\n\u001b[0m\u001b[1;32m    826\u001b[0m                 \u001b[0;32mreturn\u001b[0m \u001b[0;32mTrue\u001b[0m\u001b[0;34m\u001b[0m\u001b[0m\n\u001b[1;32m    827\u001b[0m \u001b[0;34m\u001b[0m\u001b[0m\n",
      "\u001b[0;32m/anaconda3/lib/python3.5/site-packages/sklearn/externals/joblib/parallel.py\u001b[0m in \u001b[0;36m_dispatch\u001b[0;34m(self, batch)\u001b[0m\n\u001b[1;32m    780\u001b[0m         \u001b[0;32mwith\u001b[0m \u001b[0mself\u001b[0m\u001b[0;34m.\u001b[0m\u001b[0m_lock\u001b[0m\u001b[0;34m:\u001b[0m\u001b[0;34m\u001b[0m\u001b[0m\n\u001b[1;32m    781\u001b[0m             \u001b[0mjob_idx\u001b[0m \u001b[0;34m=\u001b[0m \u001b[0mlen\u001b[0m\u001b[0;34m(\u001b[0m\u001b[0mself\u001b[0m\u001b[0;34m.\u001b[0m\u001b[0m_jobs\u001b[0m\u001b[0;34m)\u001b[0m\u001b[0;34m\u001b[0m\u001b[0m\n\u001b[0;32m--> 782\u001b[0;31m             \u001b[0mjob\u001b[0m \u001b[0;34m=\u001b[0m \u001b[0mself\u001b[0m\u001b[0;34m.\u001b[0m\u001b[0m_backend\u001b[0m\u001b[0;34m.\u001b[0m\u001b[0mapply_async\u001b[0m\u001b[0;34m(\u001b[0m\u001b[0mbatch\u001b[0m\u001b[0;34m,\u001b[0m \u001b[0mcallback\u001b[0m\u001b[0;34m=\u001b[0m\u001b[0mcb\u001b[0m\u001b[0;34m)\u001b[0m\u001b[0;34m\u001b[0m\u001b[0m\n\u001b[0m\u001b[1;32m    783\u001b[0m             \u001b[0;31m# A job can complete so quickly than its callback is\u001b[0m\u001b[0;34m\u001b[0m\u001b[0;34m\u001b[0m\u001b[0m\n\u001b[1;32m    784\u001b[0m             \u001b[0;31m# called before we get here, causing self._jobs to\u001b[0m\u001b[0;34m\u001b[0m\u001b[0;34m\u001b[0m\u001b[0m\n",
      "\u001b[0;32m/anaconda3/lib/python3.5/site-packages/sklearn/externals/joblib/_parallel_backends.py\u001b[0m in \u001b[0;36mapply_async\u001b[0;34m(self, func, callback)\u001b[0m\n\u001b[1;32m    180\u001b[0m     \u001b[0;32mdef\u001b[0m \u001b[0mapply_async\u001b[0m\u001b[0;34m(\u001b[0m\u001b[0mself\u001b[0m\u001b[0;34m,\u001b[0m \u001b[0mfunc\u001b[0m\u001b[0;34m,\u001b[0m \u001b[0mcallback\u001b[0m\u001b[0;34m=\u001b[0m\u001b[0;32mNone\u001b[0m\u001b[0;34m)\u001b[0m\u001b[0;34m:\u001b[0m\u001b[0;34m\u001b[0m\u001b[0m\n\u001b[1;32m    181\u001b[0m         \u001b[0;34m\"\"\"Schedule a func to be run\"\"\"\u001b[0m\u001b[0;34m\u001b[0m\u001b[0m\n\u001b[0;32m--> 182\u001b[0;31m         \u001b[0mresult\u001b[0m \u001b[0;34m=\u001b[0m \u001b[0mImmediateResult\u001b[0m\u001b[0;34m(\u001b[0m\u001b[0mfunc\u001b[0m\u001b[0;34m)\u001b[0m\u001b[0;34m\u001b[0m\u001b[0m\n\u001b[0m\u001b[1;32m    183\u001b[0m         \u001b[0;32mif\u001b[0m \u001b[0mcallback\u001b[0m\u001b[0;34m:\u001b[0m\u001b[0;34m\u001b[0m\u001b[0m\n\u001b[1;32m    184\u001b[0m             \u001b[0mcallback\u001b[0m\u001b[0;34m(\u001b[0m\u001b[0mresult\u001b[0m\u001b[0;34m)\u001b[0m\u001b[0;34m\u001b[0m\u001b[0m\n",
      "\u001b[0;32m/anaconda3/lib/python3.5/site-packages/sklearn/externals/joblib/_parallel_backends.py\u001b[0m in \u001b[0;36m__init__\u001b[0;34m(self, batch)\u001b[0m\n\u001b[1;32m    543\u001b[0m         \u001b[0;31m# Don't delay the application, to avoid keeping the input\u001b[0m\u001b[0;34m\u001b[0m\u001b[0;34m\u001b[0m\u001b[0m\n\u001b[1;32m    544\u001b[0m         \u001b[0;31m# arguments in memory\u001b[0m\u001b[0;34m\u001b[0m\u001b[0;34m\u001b[0m\u001b[0m\n\u001b[0;32m--> 545\u001b[0;31m         \u001b[0mself\u001b[0m\u001b[0;34m.\u001b[0m\u001b[0mresults\u001b[0m \u001b[0;34m=\u001b[0m \u001b[0mbatch\u001b[0m\u001b[0;34m(\u001b[0m\u001b[0;34m)\u001b[0m\u001b[0;34m\u001b[0m\u001b[0m\n\u001b[0m\u001b[1;32m    546\u001b[0m \u001b[0;34m\u001b[0m\u001b[0m\n\u001b[1;32m    547\u001b[0m     \u001b[0;32mdef\u001b[0m \u001b[0mget\u001b[0m\u001b[0;34m(\u001b[0m\u001b[0mself\u001b[0m\u001b[0;34m)\u001b[0m\u001b[0;34m:\u001b[0m\u001b[0;34m\u001b[0m\u001b[0m\n",
      "\u001b[0;32m/anaconda3/lib/python3.5/site-packages/sklearn/externals/joblib/parallel.py\u001b[0m in \u001b[0;36m__call__\u001b[0;34m(self)\u001b[0m\n\u001b[1;32m    259\u001b[0m         \u001b[0;32mwith\u001b[0m \u001b[0mparallel_backend\u001b[0m\u001b[0;34m(\u001b[0m\u001b[0mself\u001b[0m\u001b[0;34m.\u001b[0m\u001b[0m_backend\u001b[0m\u001b[0;34m)\u001b[0m\u001b[0;34m:\u001b[0m\u001b[0;34m\u001b[0m\u001b[0m\n\u001b[1;32m    260\u001b[0m             return [func(*args, **kwargs)\n\u001b[0;32m--> 261\u001b[0;31m                     for func, args, kwargs in self.items]\n\u001b[0m\u001b[1;32m    262\u001b[0m \u001b[0;34m\u001b[0m\u001b[0m\n\u001b[1;32m    263\u001b[0m     \u001b[0;32mdef\u001b[0m \u001b[0m__len__\u001b[0m\u001b[0;34m(\u001b[0m\u001b[0mself\u001b[0m\u001b[0;34m)\u001b[0m\u001b[0;34m:\u001b[0m\u001b[0;34m\u001b[0m\u001b[0m\n",
      "\u001b[0;32m/anaconda3/lib/python3.5/site-packages/sklearn/externals/joblib/parallel.py\u001b[0m in \u001b[0;36m<listcomp>\u001b[0;34m(.0)\u001b[0m\n\u001b[1;32m    259\u001b[0m         \u001b[0;32mwith\u001b[0m \u001b[0mparallel_backend\u001b[0m\u001b[0;34m(\u001b[0m\u001b[0mself\u001b[0m\u001b[0;34m.\u001b[0m\u001b[0m_backend\u001b[0m\u001b[0;34m)\u001b[0m\u001b[0;34m:\u001b[0m\u001b[0;34m\u001b[0m\u001b[0m\n\u001b[1;32m    260\u001b[0m             return [func(*args, **kwargs)\n\u001b[0;32m--> 261\u001b[0;31m                     for func, args, kwargs in self.items]\n\u001b[0m\u001b[1;32m    262\u001b[0m \u001b[0;34m\u001b[0m\u001b[0m\n\u001b[1;32m    263\u001b[0m     \u001b[0;32mdef\u001b[0m \u001b[0m__len__\u001b[0m\u001b[0;34m(\u001b[0m\u001b[0mself\u001b[0m\u001b[0;34m)\u001b[0m\u001b[0;34m:\u001b[0m\u001b[0;34m\u001b[0m\u001b[0m\n",
      "\u001b[0;32m/anaconda3/lib/python3.5/site-packages/sklearn/ensemble/forest.py\u001b[0m in \u001b[0;36m_parallel_build_trees\u001b[0;34m(tree, forest, X, y, sample_weight, tree_idx, n_trees, verbose, class_weight)\u001b[0m\n\u001b[1;32m    119\u001b[0m             \u001b[0mcurr_sample_weight\u001b[0m \u001b[0;34m*=\u001b[0m \u001b[0mcompute_sample_weight\u001b[0m\u001b[0;34m(\u001b[0m\u001b[0;34m'balanced'\u001b[0m\u001b[0;34m,\u001b[0m \u001b[0my\u001b[0m\u001b[0;34m,\u001b[0m \u001b[0mindices\u001b[0m\u001b[0;34m)\u001b[0m\u001b[0;34m\u001b[0m\u001b[0m\n\u001b[1;32m    120\u001b[0m \u001b[0;34m\u001b[0m\u001b[0m\n\u001b[0;32m--> 121\u001b[0;31m         \u001b[0mtree\u001b[0m\u001b[0;34m.\u001b[0m\u001b[0mfit\u001b[0m\u001b[0;34m(\u001b[0m\u001b[0mX\u001b[0m\u001b[0;34m,\u001b[0m \u001b[0my\u001b[0m\u001b[0;34m,\u001b[0m \u001b[0msample_weight\u001b[0m\u001b[0;34m=\u001b[0m\u001b[0mcurr_sample_weight\u001b[0m\u001b[0;34m,\u001b[0m \u001b[0mcheck_input\u001b[0m\u001b[0;34m=\u001b[0m\u001b[0;32mFalse\u001b[0m\u001b[0;34m)\u001b[0m\u001b[0;34m\u001b[0m\u001b[0m\n\u001b[0m\u001b[1;32m    122\u001b[0m     \u001b[0;32melse\u001b[0m\u001b[0;34m:\u001b[0m\u001b[0;34m\u001b[0m\u001b[0m\n\u001b[1;32m    123\u001b[0m         \u001b[0mtree\u001b[0m\u001b[0;34m.\u001b[0m\u001b[0mfit\u001b[0m\u001b[0;34m(\u001b[0m\u001b[0mX\u001b[0m\u001b[0;34m,\u001b[0m \u001b[0my\u001b[0m\u001b[0;34m,\u001b[0m \u001b[0msample_weight\u001b[0m\u001b[0;34m=\u001b[0m\u001b[0msample_weight\u001b[0m\u001b[0;34m,\u001b[0m \u001b[0mcheck_input\u001b[0m\u001b[0;34m=\u001b[0m\u001b[0;32mFalse\u001b[0m\u001b[0;34m)\u001b[0m\u001b[0;34m\u001b[0m\u001b[0m\n",
      "\u001b[0;32m/anaconda3/lib/python3.5/site-packages/sklearn/tree/tree.py\u001b[0m in \u001b[0;36mfit\u001b[0;34m(self, X, y, sample_weight, check_input, X_idx_sorted)\u001b[0m\n\u001b[1;32m    797\u001b[0m             \u001b[0msample_weight\u001b[0m\u001b[0;34m=\u001b[0m\u001b[0msample_weight\u001b[0m\u001b[0;34m,\u001b[0m\u001b[0;34m\u001b[0m\u001b[0m\n\u001b[1;32m    798\u001b[0m             \u001b[0mcheck_input\u001b[0m\u001b[0;34m=\u001b[0m\u001b[0mcheck_input\u001b[0m\u001b[0;34m,\u001b[0m\u001b[0;34m\u001b[0m\u001b[0m\n\u001b[0;32m--> 799\u001b[0;31m             X_idx_sorted=X_idx_sorted)\n\u001b[0m\u001b[1;32m    800\u001b[0m         \u001b[0;32mreturn\u001b[0m \u001b[0mself\u001b[0m\u001b[0;34m\u001b[0m\u001b[0m\n\u001b[1;32m    801\u001b[0m \u001b[0;34m\u001b[0m\u001b[0m\n",
      "\u001b[0;32m/anaconda3/lib/python3.5/site-packages/sklearn/tree/tree.py\u001b[0m in \u001b[0;36mfit\u001b[0;34m(self, X, y, sample_weight, check_input, X_idx_sorted)\u001b[0m\n\u001b[1;32m    363\u001b[0m                                            min_impurity_split)\n\u001b[1;32m    364\u001b[0m \u001b[0;34m\u001b[0m\u001b[0m\n\u001b[0;32m--> 365\u001b[0;31m         \u001b[0mbuilder\u001b[0m\u001b[0;34m.\u001b[0m\u001b[0mbuild\u001b[0m\u001b[0;34m(\u001b[0m\u001b[0mself\u001b[0m\u001b[0;34m.\u001b[0m\u001b[0mtree_\u001b[0m\u001b[0;34m,\u001b[0m \u001b[0mX\u001b[0m\u001b[0;34m,\u001b[0m \u001b[0my\u001b[0m\u001b[0;34m,\u001b[0m \u001b[0msample_weight\u001b[0m\u001b[0;34m,\u001b[0m \u001b[0mX_idx_sorted\u001b[0m\u001b[0;34m)\u001b[0m\u001b[0;34m\u001b[0m\u001b[0m\n\u001b[0m\u001b[1;32m    366\u001b[0m \u001b[0;34m\u001b[0m\u001b[0m\n\u001b[1;32m    367\u001b[0m         \u001b[0;32mif\u001b[0m \u001b[0mself\u001b[0m\u001b[0;34m.\u001b[0m\u001b[0mn_outputs_\u001b[0m \u001b[0;34m==\u001b[0m \u001b[0;36m1\u001b[0m\u001b[0;34m:\u001b[0m\u001b[0;34m\u001b[0m\u001b[0m\n",
      "\u001b[0;31mKeyboardInterrupt\u001b[0m: "
     ]
    }
   ],
   "source": [
    "MLP_Model_Classifier =  MLPClassifier(activation='logistic', alpha=1e-05, batch_size='auto',beta_1=0.9, beta_2=0.999, \n",
    "                        early_stopping=False,epsilon=1e-08, hidden_layer_sizes=(1000, 4),learning_rate='adaptive', \n",
    "                        learning_rate_init=0.01,max_iter = 200, momentum=0.6, n_iter_no_change=10,\n",
    "                        nesterovs_momentum=True, power_t=0.5,random_state=1,shuffle=True, solver='sgd', tol=0.0001,\n",
    "                        validation_fraction=0.15, verbose=False, warm_start=False)\n",
    "RF_Model_Classifer = RandomForestClassifier(bootstrap=True, class_weight=None, criterion='gini', max_depth=2, \n",
    "                     max_features=784, max_leaf_nodes=None,min_impurity_decrease=0.0, min_impurity_split=None,\n",
    "                     min_samples_leaf=1, min_samples_split=2,min_weight_fraction_leaf=0.0, n_estimators=100, \n",
    "                     n_jobs=None,oob_score=False, random_state=0, verbose=0, warm_start=False)\n",
    "SVM_Model_Classifer = svm.SVC(C=1.0, cache_size=200, class_weight=None, coef0=0.0,decision_function_shape='ovr',\n",
    "                      degree=3, gamma='scale', kernel='rbf',max_iter=-1, probability=False, random_state=None, \n",
    "                      shrinking=True,tol=0.001, verbose=False)\n",
    "Ensemble_Voting_Classifier = VotingClassifier(estimators=[('MLP', MLP_Model_Classifier), ('RF', RF_Model_Classifer), ('SVM', SVM_Model_Classifer)],\n",
    "                                              voting='hard',weights=[1,1,2],flatten_transform=True)\n",
    "print('Ensemble_Voting_Classifier created')\n",
    "Ensemble_Voting_Classifier.fit(MNIST_Training_Features[0:2000,],MNIST_Training_Target[0:2000])\n",
    "#Testing on MNIST Dataset\n",
    "EnsemblePredictedResults = Ensemble_Voting_Classifier.predict(MNIST_Testing[0][0:100,])\n",
    "Ensemble_ConfusionMatrix = GetConfusionMatrix(EnsemblePredictedResults,MNIST_Testing[1][0:100])\n",
    "Ensemble_TestingAccuracy = CalculateAccuracy(EnsemblePredictedResults,MNIST_Testing[1][0:100])\n",
    "print(\"Ensemble Voting Classifier Model\")\n",
    "print(\"MNIST Dataset Confusion Matrix\")\n",
    "print(Ensemble_ConfusionMatrix)\n",
    "print(\"MNIST Dataset Testing Accuracy \" + str(Ensemble_TestingAccuracy))\n",
    "\n"
   ]
  },
  {
   "cell_type": "code",
   "execution_count": null,
   "metadata": {},
   "outputs": [],
   "source": []
  },
  {
   "cell_type": "code",
   "execution_count": null,
   "metadata": {},
   "outputs": [],
   "source": []
  },
  {
   "cell_type": "code",
   "execution_count": null,
   "metadata": {},
   "outputs": [],
   "source": []
  },
  {
   "cell_type": "code",
   "execution_count": null,
   "metadata": {},
   "outputs": [],
   "source": []
  }
 ],
 "metadata": {
  "kernelspec": {
   "display_name": "Python 3",
   "language": "python",
   "name": "python3"
  },
  "language_info": {
   "codemirror_mode": {
    "name": "ipython",
    "version": 3
   },
   "file_extension": ".py",
   "mimetype": "text/x-python",
   "name": "python",
   "nbconvert_exporter": "python",
   "pygments_lexer": "ipython3",
   "version": "3.5.6"
  }
 },
 "nbformat": 4,
 "nbformat_minor": 2
}
